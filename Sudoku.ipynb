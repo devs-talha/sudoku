{
  "nbformat": 4,
  "nbformat_minor": 0,
  "metadata": {
    "colab": {
      "provenance": [],
      "authorship_tag": "ABX9TyMOeEyMzBXhP9AT8fuZnvTo",
      "include_colab_link": true
    },
    "kernelspec": {
      "name": "python3",
      "display_name": "Python 3"
    },
    "language_info": {
      "name": "python"
    }
  },
  "cells": [
    {
      "cell_type": "markdown",
      "metadata": {
        "id": "view-in-github",
        "colab_type": "text"
      },
      "source": [
        "<a href=\"https://colab.research.google.com/github/devs-talha/sudoku/blob/main/Sudoku.ipynb\" target=\"_parent\"><img src=\"https://colab.research.google.com/assets/colab-badge.svg\" alt=\"Open In Colab\"/></a>"
      ]
    },
    {
      "cell_type": "markdown",
      "source": [
        "# Sudoku Maze Generator and Solver\n",
        "\n",
        "This Python project generates and solves Sudoku puzzles. It includes functionalities to create unique Sudoku grids, fill them according to Sudoku rules, and display both the generated and solved puzzles.\n",
        "\n",
        "## Features\n",
        "- Randomized Sudoku puzzle generation\n",
        "- Automatic puzzle solving\n"
      ],
      "metadata": {
        "id": "M4Q1Hzctyxw6"
      }
    },
    {
      "cell_type": "code",
      "source": [
        "def create_maze():\n",
        "    \"\"\"\n",
        "    Creates a 9x9 maze grid filled with '*' symbols.\n",
        "\n",
        "    Returns:\n",
        "        list: A 9x9 grid (list of lists) where each cell is initialized with '*'.\n",
        "    \"\"\"\n",
        "    maze = []\n",
        "    for i in range(9):\n",
        "        maze.append(['*'] * 9)  # Each row is a list of 9 '*' symbols\n",
        "    return maze\n",
        "\n",
        "\n",
        "def print_maze(maze):\n",
        "    \"\"\"\n",
        "    Prints the 9x9 maze grid in a readable format.\n",
        "\n",
        "    Args:\n",
        "        maze (list): A 9x9 grid (list of lists) representing the maze.\n",
        "    \"\"\"\n",
        "    for i in range(9):\n",
        "        for j in range(9):\n",
        "            print(maze[i][j], end=' ')  # Print each cell with a space in between\n",
        "        print()  # Move to the next line after each row\n",
        "\n",
        "\n",
        "# Create and print the maze\n",
        "print_maze(create_maze())"
      ],
      "metadata": {
        "colab": {
          "base_uri": "https://localhost:8080/"
        },
        "id": "VYUQVmegy038",
        "outputId": "7c4d61cf-5c06-49a9-e00e-e679891afdb6"
      },
      "execution_count": 49,
      "outputs": [
        {
          "output_type": "stream",
          "name": "stdout",
          "text": [
            "* * * * * * * * * \n",
            "* * * * * * * * * \n",
            "* * * * * * * * * \n",
            "* * * * * * * * * \n",
            "* * * * * * * * * \n",
            "* * * * * * * * * \n",
            "* * * * * * * * * \n",
            "* * * * * * * * * \n",
            "* * * * * * * * * \n"
          ]
        }
      ]
    },
    {
      "cell_type": "code",
      "source": [
        "def is_safe(number, i, j, maze):\n",
        "    \"\"\"\n",
        "    Checks if it is safe to place a number in the specified cell of the maze.\n",
        "\n",
        "    Args:\n",
        "        number (int): The number to be placed in the maze (1-9 for Sudoku).\n",
        "        i (int): The row index of the cell where the number is to be placed.\n",
        "        j (int): The column index of the cell where the number is to be placed.\n",
        "        maze (list): A 9x9 grid (list of lists) representing the current Sudoku puzzle.\n",
        "\n",
        "    Returns:\n",
        "        bool: True if it is safe to place the number at maze[i][j], otherwise False.\n",
        "    \"\"\"\n",
        "    # Check if the cell is already filled\n",
        "    if maze[i][j] != '*':\n",
        "        return False\n",
        "\n",
        "    # Check if the number is already present in the current row or column\n",
        "    for k in range(9):\n",
        "        if maze[k][j] == number or maze[i][k] == number:\n",
        "            return False\n",
        "\n",
        "    # Check the 3x3 sub-grid for the presence of the number\n",
        "    for k in range(3):\n",
        "        for l in range(3):\n",
        "            if maze[i - i % 3 + k][j - j % 3 + l] == number:\n",
        "                return False\n",
        "\n",
        "    # Return True if it's safe to place the number\n",
        "    return True"
      ],
      "metadata": {
        "id": "XbM2K2yT1eTI"
      },
      "execution_count": 50,
      "outputs": []
    },
    {
      "cell_type": "code",
      "source": [
        "import random\n",
        "\n",
        "def fill_maze(maze, i, j):\n",
        "    \"\"\"\n",
        "    Recursively fills a 9x9 Sudoku maze with numbers from 1 to 9, ensuring that each number\n",
        "    follows the Sudoku rules (no duplicates in rows, columns, and 3x3 sub-grids).\n",
        "\n",
        "    Args:\n",
        "        maze (list): A 9x9 grid (list of lists) representing the current state of the Sudoku puzzle.\n",
        "        i (int): The row index of the cell being filled.\n",
        "        j (int): The column index of the cell being filled.\n",
        "\n",
        "    Returns:\n",
        "        bool: True if the maze is successfully filled, otherwise False.\n",
        "    \"\"\"\n",
        "    # If we have reached the end of the grid, return True (base case)\n",
        "    if i == 8 and j == 9:\n",
        "        return True\n",
        "\n",
        "    # Move to the next row if the end of the current row is reached\n",
        "    if j == 9:\n",
        "        i += 1\n",
        "        j = 0\n",
        "\n",
        "    # Skip the cell if it's already filled, move to the next column\n",
        "    if maze[i][j] != '*':\n",
        "        return fill_maze(maze, i, j + 1)\n",
        "\n",
        "    # List of numbers from 1 to 9 shuffled for randomness\n",
        "    numbers = list(range(1, 10))\n",
        "    random.shuffle(numbers)\n",
        "\n",
        "    # Try placing each number in the current cell\n",
        "    for num in numbers:\n",
        "        if is_safe(num, i, j, maze):\n",
        "            maze[i][j] = num  # Place the number in the cell\n",
        "\n",
        "            # Recursively attempt to fill the rest of the maze\n",
        "            if fill_maze(maze, i, j + 1):\n",
        "                return True\n",
        "\n",
        "            # Reset the cell if the number leads to an invalid configuration\n",
        "            maze[i][j] = '*'\n",
        "\n",
        "    # Return False if no number can be placed in the current cell\n",
        "    return False\n",
        "\n",
        "\n",
        "# Initialize the maze and fill it\n",
        "maze = create_maze()\n",
        "fill_maze(maze, 0, 0)\n",
        "\n",
        "# Print the filled maze\n",
        "print_maze(maze)"
      ],
      "metadata": {
        "colab": {
          "base_uri": "https://localhost:8080/"
        },
        "id": "xytPlfWf1Qo1",
        "outputId": "c75d0e97-f0cb-4c90-f87c-be5483a98163"
      },
      "execution_count": 56,
      "outputs": [
        {
          "output_type": "stream",
          "name": "stdout",
          "text": [
            "2 4 8 7 3 9 5 1 6 \n",
            "1 9 6 2 4 5 8 3 7 \n",
            "7 5 3 6 8 1 9 2 4 \n",
            "9 2 4 1 5 6 7 8 3 \n",
            "8 6 7 9 2 3 1 4 5 \n",
            "3 1 5 4 7 8 2 6 9 \n",
            "4 8 9 3 1 7 6 5 2 \n",
            "5 7 2 8 6 4 3 9 1 \n",
            "6 3 1 5 9 2 4 7 8 \n"
          ]
        }
      ]
    },
    {
      "cell_type": "code",
      "source": [
        "def mask_maze(maze, difficulty='easy'):\n",
        "    \"\"\"\n",
        "    Randomly masks (hides) numbers in the given 9x9 Sudoku maze based on the specified difficulty level.\n",
        "\n",
        "    Args:\n",
        "        maze (list): A 9x9 grid (list of lists) representing the filled Sudoku puzzle.\n",
        "        difficulty (str): The difficulty level ('easy', 'medium', 'hard'). Determines the number of cells to mask.\n",
        "\n",
        "    Raises:\n",
        "        ValueError: If the difficulty level is not one of 'easy', 'medium', or 'hard'.\n",
        "    \"\"\"\n",
        "    # Set weights for masking based on difficulty\n",
        "    if difficulty == 'easy':\n",
        "        weights = [0.3, 0.7]  # 30% chance to mask\n",
        "    elif difficulty == 'medium':\n",
        "        weights = [0.5, 0.5]  # 50% chance to mask\n",
        "    elif difficulty == 'hard':\n",
        "        weights = [0.7, 0.3]  # 70% chance to mask\n",
        "    else:\n",
        "        raise ValueError(\"Difficulty must be 'easy', 'medium', or 'hard'.\")\n",
        "\n",
        "    # Iterate through each cell in the 9x9 grid\n",
        "    for i in range(9):\n",
        "        for j in range(9):\n",
        "            # Randomly decide whether to mask the current cell based on difficulty\n",
        "            if random.choices([True, False], weights=weights)[0]:\n",
        "                maze[i][j] = '*'  # Mask the cell by replacing it with '*'\n",
        "\n",
        "\n",
        "# Mask random cells in the filled maze\n",
        "mask_maze(maze, difficulty='hard')\n",
        "\n",
        "# Print the masked maze\n",
        "print_maze(maze)"
      ],
      "metadata": {
        "colab": {
          "base_uri": "https://localhost:8080/"
        },
        "id": "IaaTLFgI2i_X",
        "outputId": "dc987fed-81df-484c-9cb9-7368953eb101"
      },
      "execution_count": 57,
      "outputs": [
        {
          "output_type": "stream",
          "name": "stdout",
          "text": [
            "* 4 8 7 * * 5 * 6 \n",
            "1 * 6 * 4 * * * * \n",
            "* * * * 8 * * * * \n",
            "* * * 1 * 6 * * * \n",
            "8 * * * 2 * * 4 * \n",
            "* 1 * * * 8 2 * * \n",
            "* * * * * * * * * \n",
            "* * 2 * * * 3 * 1 \n",
            "* 3 * * 9 2 * * * \n"
          ]
        }
      ]
    },
    {
      "cell_type": "code",
      "source": [
        "# Solve the Sudoku maze again by filling it from the starting position\n",
        "fill_maze(maze, 0, 0)\n",
        "\n",
        "# Print the solved maze\n",
        "print_maze(maze)"
      ],
      "metadata": {
        "colab": {
          "base_uri": "https://localhost:8080/"
        },
        "id": "PCiQkqxw9gMZ",
        "outputId": "01e166ef-660d-4eb0-b510-31594daf510a"
      },
      "execution_count": 58,
      "outputs": [
        {
          "output_type": "stream",
          "name": "stdout",
          "text": [
            "2 4 8 7 1 9 5 3 6 \n",
            "1 5 6 2 4 3 8 9 7 \n",
            "7 9 3 6 8 5 4 1 2 \n",
            "4 2 9 1 3 6 7 5 8 \n",
            "8 6 5 9 2 7 1 4 3 \n",
            "3 1 7 4 5 8 2 6 9 \n",
            "6 8 4 3 7 1 9 2 5 \n",
            "9 7 2 5 6 4 3 8 1 \n",
            "5 3 1 8 9 2 6 7 4 \n"
          ]
        }
      ]
    }
  ]
}